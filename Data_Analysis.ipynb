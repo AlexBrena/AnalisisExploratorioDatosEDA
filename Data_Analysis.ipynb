{
 "cells": [
  {
   "cell_type": "markdown",
   "id": "d795c4e8-93e8-4730-8776-95ca57e020cd",
   "metadata": {},
   "source": [
    "# Importar Librerías"
   ]
  },
  {
   "cell_type": "code",
   "execution_count": null,
   "id": "329f9ca7-2c19-4cad-a67f-33ee7f9fa5be",
   "metadata": {},
   "outputs": [],
   "source": [
    "import tkinter as tk\n",
    "from tkinter import filedialog\n",
    "import pandas as pd\n",
    "import numpy as np\n",
    "import matplotlib.pyplot as plt\n",
    "import seaborn as sns\n",
    "import scipy.stats\n",
    "import scipy as sp\n",
    "from scipy.stats import pearsonr\n",
    "from scipy.stats import kendalltau\n",
    "from scipy.stats import spearmanr\n",
    "from scipy.stats import chi2\n",
    "from sklearn.preprocessing import StandardScaler\n",
    "from sklearn.covariance import MinCovDet\n",
    "import copy "
   ]
  },
  {
   "cell_type": "markdown",
   "id": "3851b58a-f97a-41ee-8ce9-c519080f981b",
   "metadata": {},
   "source": [
    "# Abrir archivos (csv, txt o xslx)"
   ]
  },
  {
   "cell_type": "code",
   "execution_count": null,
   "id": "99cb9b12-2dd5-41e0-8a71-40a1f47c0b9a",
   "metadata": {},
   "outputs": [],
   "source": [
    "def abrir_archivo():\n",
    "    root = tk.Tk()\n",
    "    root.withdraw()  # Ocultar la ventana principal\n",
    "\n",
    "    tipos_archivos = [\n",
    "        (\"Archivos CSV\", \"*.csv\"),\n",
    "        (\"Archivos de texto\", \"*.txt\"),\n",
    "        (\"Archivos Excel\", \"*.xlsx\")\n",
    "    ]\n",
    "    \n",
    "    ruta_archivo = filedialog.askopenfilename(filetypes=tipos_archivos)\n",
    "    \n",
    "    if ruta_archivo:\n",
    "        if ruta_archivo.endswith('.csv'):\n",
    "            data = pd.read_csv(ruta_archivo)\n",
    "        elif ruta_archivo.endswith('.txt'):\n",
    "            data = pd.read_csv(ruta_archivo, delimiter='\\t')  # Puedes cambiar el delimitador si es necesario\n",
    "        elif ruta_archivo.endswith('.xlsx'):\n",
    "            data = pd.read_excel(ruta_archivo)\n",
    "        else:\n",
    "            print(\"Formato de archivo no válido\")\n",
    "            return None, None, None\n",
    "        \n",
    "        return data, ruta_archivo  # Devolver el DataFrame y la ruta del archivo\n",
    "    else:\n",
    "        print(\"Ningún archivo seleccionado\")\n",
    "    \n",
    "    root.destroy()"
   ]
  },
  {
   "cell_type": "markdown",
   "id": "9e1650fd-f7cd-47bd-a691-52df5cdec2ed",
   "metadata": {},
   "source": [
    "# Análisis del archivo"
   ]
  },
  {
   "cell_type": "code",
   "execution_count": null,
   "id": "b1afbfb1-213c-4277-9471-58da411755d8",
   "metadata": {},
   "outputs": [],
   "source": [
    "#data = data.drop('DEPTH', axis=1)"
   ]
  },
  {
   "cell_type": "code",
   "execution_count": null,
   "id": "b9232acd-54a9-409f-a948-07e4b39a37b1",
   "metadata": {},
   "outputs": [],
   "source": [
    "# Llamar a la función para cargar el archivo y obtener el DataFrame y la ruta del archivo\n",
    "data, ruta_archivo = abrir_archivo()"
   ]
  },
  {
   "cell_type": "code",
   "execution_count": null,
   "id": "7c1e34b3-783a-4a16-9644-10d48bd203ef",
   "metadata": {},
   "outputs": [],
   "source": [
    "data.describe().apply(lambda s: s.apply('{0:.1f}'.format))"
   ]
  },
  {
   "cell_type": "markdown",
   "id": "d9de3384-70c4-4268-a018-37166eace225",
   "metadata": {},
   "source": [
    "# Análisis de valores nulos"
   ]
  },
  {
   "cell_type": "code",
   "execution_count": null,
   "id": "83f68dab-60de-4b79-bd76-6074a9d199b8",
   "metadata": {},
   "outputs": [],
   "source": [
    "def contar_nans(data, valor_a_nan=None):\n",
    "    if valor_a_nan is not None:\n",
    "        # Reemplazar el valor especificado por NaN\n",
    "        data_con_nans = data.replace(valor_a_nan, np.nan)\n",
    "        cantidad_nans = data_con_nans.isnull().sum()\n",
    "    else:\n",
    "        # Contar los valores específicos como NaN y luego contar los NaN por columna\n",
    "        nan_values = [None, '', 'N/A', 'No Info']  # Valores que denotan ausencia de información\n",
    "        cantidad_nans = data.isin(nan_values).sum()\n",
    "\n",
    "    # Crear una tabla con la cantidad de NaN por columna\n",
    "    tabla_nans = pd.DataFrame({'Cantidad de NaN': cantidad_nans})\n",
    "    \n",
    "    # Calcular el porcentaje de NaN por columna\n",
    "    total_datos = len(data)\n",
    "    tabla_nans['% de NaN'] = (tabla_nans['Cantidad de NaN'] / total_datos) * 100\n",
    "    \n",
    "    # Asignar categorías según el porcentaje de NaN\n",
    "    tabla_nans['Score'] = pd.cut(tabla_nans['% de NaN'], bins=[-1, 25, 50, 75, 100],\n",
    "                                 labels=['Muy bajo', 'Bajo', 'Moderado', 'Alto'])\n",
    "    \n",
    "    # Redondear los valores a 2 decimales\n",
    "    tabla_nans = tabla_nans.round(2)\n",
    "    \n",
    "    return tabla_nans, data_con_nans # Retornar la tabla sin imprimir directamente"
   ]
  },
  {
   "cell_type": "code",
   "execution_count": null,
   "id": "915bcad8-46d9-40fb-8f7b-8bd38460059d",
   "metadata": {},
   "outputs": [],
   "source": [
    "# Establecer el valor que deseas tratar como NaN\n",
    "valor_para_nan  = -999.25"
   ]
  },
  {
   "cell_type": "code",
   "execution_count": null,
   "id": "a584160c-df21-49d3-9b03-d04622f544ae",
   "metadata": {},
   "outputs": [],
   "source": [
    "# Llamar a la función contar_nans() con el valor_para_nan especificado\n",
    "tabla_nans, data_con_nans = contar_nans(data, valor_para_nan)"
   ]
  },
  {
   "cell_type": "markdown",
   "id": "05f4f767-d94f-4292-a14b-d3e392a6676a",
   "metadata": {},
   "source": [
    "## Cantidad de valores nulos"
   ]
  },
  {
   "cell_type": "code",
   "execution_count": null,
   "id": "12b9a0d6-674f-440a-90a0-8852dde97b39",
   "metadata": {},
   "outputs": [],
   "source": [
    "tabla_nans"
   ]
  },
  {
   "cell_type": "markdown",
   "id": "2fb0d435-28df-430a-b2c8-567427e5defb",
   "metadata": {},
   "source": [
    "## Archivo sin valores nulos"
   ]
  },
  {
   "cell_type": "code",
   "execution_count": null,
   "id": "f821bc16-e574-493e-9071-7679cc803451",
   "metadata": {},
   "outputs": [],
   "source": [
    "data_2 = data_con_nans.dropna()\n",
    "data_2.describe().apply(lambda s: s.apply('{0:.1f}'.format))"
   ]
  },
  {
   "cell_type": "code",
   "execution_count": null,
   "id": "9a9d7571-b6bd-42b7-99cd-94b301e4cda6",
   "metadata": {},
   "outputs": [],
   "source": [
    "# Obtener estadísticas descriptivas para df1 y df2\n",
    "desc_df1 = data.describe().apply(lambda s: s.apply('{0:.1f}'.format))\n",
    "desc_df2 = data_2.describe().apply(lambda s: s.apply('{0:.1f}'.format))\n",
    "\n",
    "# Comparar los resultados de describe()\n",
    "diferencias = desc_df1.compare(desc_df2, result_names=('Original', 'Sin Nulos'))\n",
    "diferencias.T"
   ]
  },
  {
   "cell_type": "markdown",
   "id": "8240faa8-563e-442b-b2d8-7dd62de9c63f",
   "metadata": {},
   "source": [
    "# Análisis estadístico de los datos (a profundidad)"
   ]
  },
  {
   "cell_type": "code",
   "execution_count": null,
   "id": "f4f62571-b93d-4549-808b-7aa55af4d80e",
   "metadata": {},
   "outputs": [],
   "source": [
    "def calcular_estadisticas(data_2):\n",
    "    # Calcular estadísticas para cada columna del DataFrame\n",
    "    estadisticas = {\n",
    "        'Número de muestras': data_2.count(),\n",
    "        'Valor mínimo': data_2.min(),\n",
    "        'Valor máximo': data_2.max(),\n",
    "        'Media': data_2.mean(),\n",
    "        'Mediana': data_2.median(),\n",
    "        'Primer cuartil': data_2.quantile(0.25),\n",
    "        'Tercer cuartil': data_2.quantile(0.75),\n",
    "        'Rango': data_2.max() - data_2.min(),\n",
    "        'Rango intercuartil': data_2.quantile(0.75) - data.quantile(0.25),\n",
    "        'Varianza': data_2.var(),\n",
    "        'Desviación estándar': data_2.std(),\n",
    "        'Coeficiente de variación': data_2.std() / data.mean(),\n",
    "        'Simetría': data_2.skew(),\n",
    "        'Curtosis': data_2.kurtosis()\n",
    "    }\n",
    "    \n",
    "    estadisticas_df = pd.DataFrame(estadisticas)\n",
    "    # Redondear los valores a 4 decimales\n",
    "    estadisticas_df = estadisticas_df.round(4)\n",
    "    return estadisticas_df"
   ]
  },
  {
   "cell_type": "code",
   "execution_count": null,
   "id": "57c9f20b-e0bd-4cab-a195-724c1f3d2bf8",
   "metadata": {},
   "outputs": [],
   "source": [
    "# Utilizar la función con tu DataFrame 'data'\n",
    "resultados_estadisticas = calcular_estadisticas(data_2)\n",
    "resultados_estadisticas.T"
   ]
  },
  {
   "cell_type": "markdown",
   "id": "350e5dd4-3550-4432-a340-bade6405ecd5",
   "metadata": {},
   "source": [
    "## Análisis gráfico de los datos (histogramas y boxplots)"
   ]
  },
  {
   "cell_type": "code",
   "execution_count": null,
   "id": "06fe48dc-3913-4197-9977-d210ea52156a",
   "metadata": {},
   "outputs": [],
   "source": [
    "def plot_hist_box(df):\n",
    "    for col in df.columns:\n",
    "        # Crear un subplot con 2 filas y 1 columna\n",
    "        fig, (ax1, ax2) = plt.subplots(nrows=2, ncols=1, figsize=(8, 6), gridspec_kw={'height_ratios': [1, 3]})\n",
    "\n",
    "        # Generar un histograma con la media y la mediana marcadas\n",
    "        df[col].plot.hist(ax=ax2, bins=10, alpha=0.5)\n",
    "        ax2.axvline(df[col].mean(), color='red', linestyle='dashed', linewidth=1)\n",
    "        ax2.axvline(df[col].median(), color='green', linestyle='dashed', linewidth=1)\n",
    "\n",
    "        # Generar un gráfico de boxplot en horizontal arriba del histograma\n",
    "        df[col].plot.box(ax=ax1, vert=False, patch_artist=True, boxprops=dict(facecolor='blue', color='black'), \n",
    "                         medianprops=dict(color='white'), whiskerprops=dict(color='black'), capprops=dict(color='black'))\n",
    "\n",
    "        # Configurar los ejes y la leyenda\n",
    "        ax2.set_xlabel(col)\n",
    "        ax2.set_ylabel('Frecuencia')\n",
    "        ax2.legend([col,'Media', 'Mediana'])\n",
    "        ax1.legend([col])\n",
    "        ax1.set_yticklabels('')\n",
    "        \n",
    "\n",
    "        # Compartir el eje X\n",
    "        ax1.get_shared_x_axes()\n",
    "\n",
    "        plt.show()"
   ]
  },
  {
   "cell_type": "code",
   "execution_count": null,
   "id": "93aac204-1ac1-43a9-9983-b19541294b1e",
   "metadata": {
    "tags": []
   },
   "outputs": [],
   "source": [
    "plot_hist_box(data_2)"
   ]
  },
  {
   "cell_type": "markdown",
   "id": "db3f332a-2f08-4a22-990f-cb836f3905ec",
   "metadata": {},
   "source": [
    "# Análisis de valores atípicos"
   ]
  },
  {
   "cell_type": "markdown",
   "id": "71b13ce4-07b3-476d-a257-b093f62abe2b",
   "metadata": {
    "tags": []
   },
   "source": [
    "## Método del Rango Intercuartílico (IQR):"
   ]
  },
  {
   "cell_type": "code",
   "execution_count": null,
   "id": "bab48fd0-db60-4da6-a1a7-8ec0d514a1c6",
   "metadata": {},
   "outputs": [],
   "source": [
    "def remove_outliers_iqr(df):\n",
    "    clean_data = df.copy()  # Copia del DataFrame para no modificar el original\n",
    "    \n",
    "    for col in df.columns:\n",
    "        Q1 = df[col].quantile(0.25)\n",
    "        Q3 = df[col].quantile(0.75)\n",
    "        IQR = Q3 - Q1\n",
    "        \n",
    "        lower_limit = Q1 - 1.5 * IQR\n",
    "        upper_limit = Q3 + 1.5 * IQR\n",
    "        \n",
    "        clean_data[col] = df[col][(df[col] >= lower_limit) & (df[col] <= upper_limit)]\n",
    "    \n",
    "    return clean_data"
   ]
  },
  {
   "cell_type": "code",
   "execution_count": null,
   "id": "4ae4ada5-7f94-455d-a31e-3fc868f9f2c1",
   "metadata": {},
   "outputs": [],
   "source": [
    "data_2_iqr = data_2.copy()"
   ]
  },
  {
   "cell_type": "code",
   "execution_count": null,
   "id": "3e12dce9-de8e-4e18-941f-8e25f6443756",
   "metadata": {},
   "outputs": [],
   "source": [
    "data_2_nol_iqr = remove_outliers_iqr(data_2_iqr)"
   ]
  },
  {
   "cell_type": "markdown",
   "id": "842e5cf5-e2a1-4565-93b9-09bd9b276ac6",
   "metadata": {},
   "source": [
    "## Estadígrafos sin valores atípicos (Método IQR)"
   ]
  },
  {
   "cell_type": "code",
   "execution_count": null,
   "id": "a46f0239-ef7e-42ac-8f0c-9e8944a240ca",
   "metadata": {},
   "outputs": [],
   "source": [
    "resultados_estadisticas_nol_iqr = calcular_estadisticas(data_2_nol_iqr)\n",
    "resultados_estadisticas_nol_iqr.T"
   ]
  },
  {
   "cell_type": "markdown",
   "id": "e0ecdcbc-2e93-481c-a5ef-66f06f81d986",
   "metadata": {},
   "source": [
    "## Análisis gráfico de los datos sin valores atípicos (Método IQR; histogramas y boxplots)"
   ]
  },
  {
   "cell_type": "code",
   "execution_count": null,
   "id": "24937078-fa9d-4ce3-a4e3-aa76716dab1a",
   "metadata": {
    "tags": []
   },
   "outputs": [],
   "source": [
    "plot_hist_box(data_2_nol_iqr)"
   ]
  },
  {
   "cell_type": "markdown",
   "id": "7f266347-f3cd-4df9-98e8-d31ab7731074",
   "metadata": {},
   "source": [
    "## Método basado en la Desviación Estándar (DE)"
   ]
  },
  {
   "cell_type": "code",
   "execution_count": null,
   "id": "12d9116a-6884-440f-b076-0de204ab882e",
   "metadata": {},
   "outputs": [],
   "source": [
    "def remove_outliers_std(df, n=2):\n",
    "    clean_data = df.copy()  # Copia del DataFrame para no modificar el original\n",
    "    \n",
    "    for col in df.columns:\n",
    "        mean = df[col].mean()\n",
    "        std = df[col].std()\n",
    "        \n",
    "        lower_limit = mean - n * std\n",
    "        upper_limit = mean + n * std\n",
    "        \n",
    "        clean_data[col] = df[col][(df[col] >= lower_limit) & (df[col] <= upper_limit)]\n",
    "    \n",
    "    return clean_data"
   ]
  },
  {
   "cell_type": "code",
   "execution_count": null,
   "id": "cf1932a2-cf60-4d39-8057-ee8358c33e24",
   "metadata": {},
   "outputs": [],
   "source": [
    "data_2_std = data_2.copy()"
   ]
  },
  {
   "cell_type": "code",
   "execution_count": null,
   "id": "f0e589ae-e319-4276-a60a-f39bf0dd2cfb",
   "metadata": {},
   "outputs": [],
   "source": [
    "data_2_nol_std = remove_outliers_std(data_2_std)"
   ]
  },
  {
   "cell_type": "markdown",
   "id": "1781fa1a-2170-45f4-ade9-f4241c2fde2d",
   "metadata": {},
   "source": [
    "## Estadígrafos sin valores atípicos (Método DE)"
   ]
  },
  {
   "cell_type": "code",
   "execution_count": null,
   "id": "43844335-47f8-423f-92ac-6b0629963f7f",
   "metadata": {},
   "outputs": [],
   "source": [
    "resultados_estadisticas_nol_std = calcular_estadisticas(data_2_nol_std)\n",
    "resultados_estadisticas_nol_std.T"
   ]
  },
  {
   "cell_type": "markdown",
   "id": "2ac5a5dc-9ff1-4aeb-bead-7759c6c9e00c",
   "metadata": {},
   "source": [
    "## Análisis gráfico de los datos sin valores atípicos (Método IQR; histogramas y boxplots)"
   ]
  },
  {
   "cell_type": "code",
   "execution_count": null,
   "id": "418f7d93-9dc2-4828-a6b4-6fff8e99c7c7",
   "metadata": {
    "tags": []
   },
   "outputs": [],
   "source": [
    "plot_hist_box(data_2_nol_std)"
   ]
  },
  {
   "cell_type": "markdown",
   "id": "b4a4f31f-337f-4c84-8c63-2902feaac545",
   "metadata": {},
   "source": [
    "# Análisis Estadístico Bivariado"
   ]
  },
  {
   "cell_type": "code",
   "execution_count": null,
   "id": "c6c4297c-27da-41f6-a6bd-eda2e7f93252",
   "metadata": {},
   "outputs": [],
   "source": [
    "data_3 = data_2.copy()"
   ]
  },
  {
   "cell_type": "code",
   "execution_count": null,
   "id": "95eb9961-9921-4297-9197-86d714f08413",
   "metadata": {
    "tags": []
   },
   "outputs": [],
   "source": [
    "def corr_func(x, y, ax=None, **kws):\n",
    "    \"\"\"Plot the correlation coefficient in the top right hand corner of a plot.\n",
    "    \"\"\"\n",
    "    r, _ = pearsonr(x, y)\n",
    "    s, _ = spearmanr(x, y)\n",
    "    k, _ = kendalltau(x, y)\n",
    "    fontsize = 30\n",
    "    ax = ax or plt.gca()\n",
    "    ax.annotate(f'P = {r:.2f}', xy=(.5, .70), xycoords=ax.transAxes,\n",
    "                fontsize=fontsize, ha='center')\n",
    "    ax.annotate(f'S = {s:.2f}', xy=(.5, .50), xycoords=ax.transAxes,\n",
    "                fontsize=fontsize, ha='center')\n",
    "    ax.annotate(f'K = {k:.2f}', xy=(.5, .30), xycoords=ax.transAxes,\n",
    "                fontsize=fontsize, ha='center')"
   ]
  },
  {
   "cell_type": "markdown",
   "id": "12d92124-f332-4120-9cfa-9d65bc1ce3cf",
   "metadata": {},
   "source": [
    "## Valores de correlación de las variables y gráfico de Dispersión "
   ]
  },
  {
   "cell_type": "code",
   "execution_count": null,
   "id": "83353ff7-89c5-4158-8f17-2ba30680b858",
   "metadata": {},
   "outputs": [],
   "source": [
    "g = sns.PairGrid(data_3)\n",
    "g.map_upper(corr_func)\n",
    "g.map_lower(sns.scatterplot)\n",
    "g.map_diag(sns.histplot)\n",
    "g.fig.suptitle(\"Gráfico de correlación\", fontsize=50, y=1.05)\n",
    "for ax in g.axes.flat:\n",
    "    ax.set_xlabel(ax.get_xlabel(), fontsize=29)\n",
    "    ax.set_ylabel(ax.get_ylabel(), fontsize=29)\n",
    "plt.show()"
   ]
  },
  {
   "cell_type": "markdown",
   "id": "da2fa817-3582-4f1e-9be4-aa1dce5a909d",
   "metadata": {},
   "source": [
    "# Analisis Multivariado"
   ]
  },
  {
   "cell_type": "code",
   "execution_count": null,
   "id": "a02d523d-9cab-44ae-b2db-ef9c2749c910",
   "metadata": {},
   "outputs": [],
   "source": [
    "data_4 = data_2"
   ]
  },
  {
   "cell_type": "code",
   "execution_count": null,
   "id": "820d9fd5-32df-408f-bdb8-b9b1f6a4e1c6",
   "metadata": {},
   "outputs": [],
   "source": [
    "scaler = StandardScaler()\n",
    "datascaled = scaler.fit_transform(data_4)\n",
    "data_scaled = pd.DataFrame(datascaled)\n",
    "data_scaled.columns = data_4.columns"
   ]
  },
  {
   "cell_type": "code",
   "execution_count": null,
   "id": "65799225-5921-4c1c-808b-65d244611fb8",
   "metadata": {},
   "outputs": [],
   "source": [
    "data_scaled.describe().apply(lambda s: s.apply('{0:.4f}'.format)).T"
   ]
  },
  {
   "cell_type": "markdown",
   "id": "9b6189b1-730f-4203-80b5-69c424c255d8",
   "metadata": {},
   "source": [
    "## Análisis multivariado de valores atípicos"
   ]
  },
  {
   "cell_type": "code",
   "execution_count": null,
   "id": "4302d2c2-20b0-4be1-a717-b4080101c51f",
   "metadata": {},
   "outputs": [],
   "source": [
    "#Robust Mahalonibis Distance\n",
    "def robust_mahalanobis_method(df):\n",
    "    #Minimum covariance determinant\n",
    "    rng = np.random.RandomState(0)\n",
    "    real_cov = np.cov(df.values.T)\n",
    "    X = rng.multivariate_normal(mean=np.mean(df, axis=0), cov=real_cov, size=506)\n",
    "    cov = MinCovDet(random_state=0).fit(X)\n",
    "    mcd = cov.covariance_ #robust covariance metric\n",
    "    robust_mean = cov.location_  #robust mean\n",
    "    inv_covmat = sp.linalg.inv(mcd) #inverse covariance metric\n",
    "    \n",
    "    #Robust M-Distance\n",
    "    x_minus_mu = df - robust_mean\n",
    "    left_term = np.dot(x_minus_mu, inv_covmat)\n",
    "    mahal = np.dot(left_term, x_minus_mu.T)\n",
    "    md = np.sqrt(mahal.diagonal())\n",
    "    \n",
    "    #Flag as outlier\n",
    "    outlier = []\n",
    "    C = np.sqrt(chi2.ppf((1-0.001), df=df.shape[1]))#degrees of freedom = number of variables\n",
    "    for index, value in enumerate(md):\n",
    "        if value > C:\n",
    "            outlier.append(index)\n",
    "        else:\n",
    "            continue\n",
    "    return outlier, md"
   ]
  },
  {
   "cell_type": "code",
   "execution_count": null,
   "id": "5a86a3a9-7911-47f3-a7fe-db550f25a94d",
   "metadata": {},
   "outputs": [],
   "source": [
    "outliers_mahal_rob_bi, md_rb_bi = robust_mahalanobis_method(df=data_scaled)"
   ]
  },
  {
   "cell_type": "code",
   "execution_count": null,
   "id": "cdb833b5-4458-4bb3-bd8e-47d333b881dd",
   "metadata": {},
   "outputs": [],
   "source": [
    "data_scaled_df = copy.deepcopy(data_scaled) "
   ]
  },
  {
   "cell_type": "code",
   "execution_count": null,
   "id": "d3b6b8ad-2a46-4bab-81f5-925422f830ec",
   "metadata": {},
   "outputs": [],
   "source": [
    "def flag_outliers(df, outliers):\n",
    "    flag = []\n",
    "    for index in range(df.shape[0]):\n",
    "        if index in outliers:\n",
    "            flag.append(-1)\n",
    "        else:\n",
    "            flag.append(1)\n",
    "    return flag"
   ]
  },
  {
   "cell_type": "code",
   "execution_count": null,
   "id": "fc17588d-db81-4635-9aca-c50fc9a206f0",
   "metadata": {},
   "outputs": [],
   "source": [
    "y_pred = flag_outliers(data_scaled_df, outliers_mahal_rob_bi)"
   ]
  },
  {
   "cell_type": "code",
   "execution_count": null,
   "id": "d24ec833-13bb-40e0-ba9f-c18a163ccc02",
   "metadata": {},
   "outputs": [],
   "source": [
    "data_scaled['outliers'] = flag_outliers(data_scaled_df, outliers_mahal_rob_bi)"
   ]
  },
  {
   "cell_type": "code",
   "execution_count": null,
   "id": "25274c22-3a0f-47a9-8f5c-755d91cc0015",
   "metadata": {},
   "outputs": [],
   "source": [
    "y_pred = np.array(y_pred)"
   ]
  },
  {
   "cell_type": "markdown",
   "id": "bca08d62-1b57-46a0-9339-988dd846708d",
   "metadata": {},
   "source": [
    "## Cantidad de Valores atípicos"
   ]
  },
  {
   "cell_type": "code",
   "execution_count": null,
   "id": "7cbfc757-34aa-4c91-aac2-939371ae6c0a",
   "metadata": {},
   "outputs": [],
   "source": [
    "n_inliers = (y_pred == 1).sum()\n",
    "n_outliers = (y_pred == -1).sum()\n",
    "n_total = n_inliers + n_outliers\n",
    "\n",
    "print(f\"Number of inliers: {n_inliers}\")\n",
    "print(f\"Number of outliers: {n_outliers}\")\n",
    "print(f\"Total: {n_total}\")"
   ]
  },
  {
   "cell_type": "code",
   "execution_count": null,
   "id": "eaa981b7-779d-485a-ba00-a39b1ad1aa3c",
   "metadata": {},
   "outputs": [],
   "source": [
    "labels = 'Inliers', 'Outliers'\n",
    "sizes = [n_inliers, n_outliers]\n",
    "plt.rcParams[\"figure.facecolor\"] = \"w\"\n",
    "plt.figure(figsize=(6,6))\n",
    "plt.pie(sizes, labels=labels, autopct='%1.1f%%', shadow=True, startangle=90)\n",
    "plt.title('Distribución de datos y atipicos con \\nDistancia de Mahalanobis',size=16)\n",
    "plt.show()"
   ]
  },
  {
   "cell_type": "code",
   "execution_count": null,
   "id": "4a86fcaf-2657-4a6a-8c16-8cf5181b55cc",
   "metadata": {},
   "outputs": [],
   "source": [
    "ds = data_scaled_df.copy()\n",
    "ds.columns=data_scaled_df.columns\n",
    "ds['legend'] = y_pred"
   ]
  },
  {
   "cell_type": "markdown",
   "id": "bc2555d5-88b4-449f-ad75-8e0f772664c6",
   "metadata": {},
   "source": [
    "## Diagrama de dispersión de datos sin valores atípicos"
   ]
  },
  {
   "cell_type": "code",
   "execution_count": null,
   "id": "56b30572-3bb6-4ebd-a24a-e30949334fb6",
   "metadata": {},
   "outputs": [],
   "source": [
    "# Crear un gráfico de Seaborn\n",
    "plt.rc('legend', fontsize=15, title_fontsize=17)\n",
    "plt.rc('axes', titlesize=25)\n",
    "sns.pairplot(ds, hue='legend', palette='bright', corner=True)\n",
    "plt.suptitle('Bivariate Plot of Variables with Outliers', size=24, y=1.05)\n",
    "plt.show()"
   ]
  }
 ],
 "metadata": {
  "kernelspec": {
   "display_name": "Python 3 (ipykernel)",
   "language": "python",
   "name": "python3"
  },
  "language_info": {
   "codemirror_mode": {
    "name": "ipython",
    "version": 3
   },
   "file_extension": ".py",
   "mimetype": "text/x-python",
   "name": "python",
   "nbconvert_exporter": "python",
   "pygments_lexer": "ipython3",
   "version": "3.10.13"
  }
 },
 "nbformat": 4,
 "nbformat_minor": 5
}
